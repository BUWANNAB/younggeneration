{
 "cells": [
  {
   "cell_type": "code",
   "execution_count": 6,
   "id": "e872d230-61ba-4e62-ae3e-650ac3276e72",
   "metadata": {},
   "outputs": [],
   "source": [
    "import cv2\n",
    "img = cv2.imread('C:/Users/I is God/Desktop/abc.jpg')\n",
    "kernel_size = 3\n",
    "blur_img = cv2.blur(img, (kernel_size, kernel_size))\n",
    "cv2.imshow('Mean Blurred Image', blur_img)\n",
    "cv2.waitKey(0)\n",
    "cv2.destroyAllWindows()"
   ]
  },
  {
   "cell_type": "code",
   "execution_count": 8,
   "id": "d049b400-6d09-4a22-af84-83d91d46c32c",
   "metadata": {},
   "outputs": [],
   "source": [
    "import cv2\n",
    "img = cv2.imread('C:/Users/I is God/Desktop/abc.jpg')\n",
    "kernel_size = 3\n",
    "median_blur_img = cv2.medianBlur(img, kernel_size)\n",
    "cv2.imshow('Median Blurred Image', median_blur_img)\n",
    "cv2.waitKey(0)\n",
    "cv2.destroyAllWindows()"
   ]
  },
  {
   "cell_type": "code",
   "execution_count": 10,
   "id": "8e584f17-b9d0-4a10-935d-6ccaa0c67841",
   "metadata": {},
   "outputs": [],
   "source": [
    "import cv2\n",
    "img = cv2.imread('C:/Users/I is God/Desktop/abc.jpg')\n",
    "kernel_size = (3, 3)\n",
    "sigma = 0\n",
    "gaussian_blur_img = cv2.GaussianBlur(img, kernel_size, sigma)\n",
    "cv2.imshow('Gaussian Blurred Image', gaussian_blur_img)\n",
    "cv2.waitKey(0)\n",
    "cv2.destroyAllWindows()"
   ]
  },
  {
   "cell_type": "code",
   "execution_count": 12,
   "id": "ce113abd-fe39-4fd5-910c-985dbf94dc61",
   "metadata": {},
   "outputs": [],
   "source": [
    "import cv2\n",
    "import numpy as np\n",
    "img = cv2.imread('C:/Users/I is God/Desktop/abc.jpg')\n",
    "kernel = np.array([[1, 1, 1],\n",
    "                   [1, 1, 1],\n",
    "                   [1, 1, 1]])/9\n",
    "custom_blur_img = cv2.filter2D(img, -1, kernel)\n",
    "cv2.imshow('Custom Blurred Image', custom_blur_img)\n",
    "cv2.waitKey(0)\n",
    "cv2.destroyAllWindows()"
   ]
  },
  {
   "cell_type": "code",
   "execution_count": null,
   "id": "a6b30e13-2334-4045-80c5-643f9e315517",
   "metadata": {},
   "outputs": [],
   "source": [
    "import cv2\n",
    "import numpy as np\n",
    "img = cv2.imread('C:/Users/I is God/Desktop/abc.jpg')\n",
    "kernel = np.array([[0, -1, 0],\n",
    "                   [-1, 5, -1],\n",
    "                   [0, -1, 0]])\n",
    "sharpened_img = cv2.filter2D(img, -1, kernel)\n",
    "cv2.imshow('Sharpened Image', sharpened_img)\n",
    "cv2.waitKey(0)\n",
    "cv2.destroyAllWindows()"
   ]
  },
  {
   "cell_type": "code",
   "execution_count": null,
   "id": "1f375fa2-05df-4882-9544-376562b75a13",
   "metadata": {},
   "outputs": [],
   "source": [
    "import tensorflow as tf\n",
    "from tensorflow.keras import datasets, layers, models\n",
    "import matplotlib.pyplot as plt\n",
    "\n",
    "# 加载 MNIST 数据集\n",
    "(train_images, train_labels), (test_images, test_labels) = datasets.mnist.load_data()\n",
    "\n",
    "# 对数据进行预处理\n",
    "# 将像素值归一化到 0 到 1 之间\n",
    "train_images, test_images = train_images / 255.0, test_images / 255.0\n",
    "\n",
    "# 显示一些示例图像\n",
    "plt.figure(figsize=(10, 10))\n",
    "for i in range(25):\n",
    "    plt.subplot(5, 5, i+1)\n",
    "    plt.xticks([])\n",
    "    plt.yticks([])\n",
    "    plt.grid(False)\n",
    "    plt.imshow(train_images[i], cmap=plt.cm.binary)\n",
    "    plt.xlabel(train_labels[i])\n",
    "plt.show()\n",
    "\n",
    "# 构建卷积神经网络模型\n",
    "model = models.Sequential()\n",
    "# 添加第一个卷积层，32 个 3x3 卷积核，使用 ReLU 激活函数，输入形状为 28x28x1\n",
    "model.add(layers.Conv2D(32, (3, 3), activation='relu', input_shape=(28, 28, 1)))\n",
    "# 添加一个 2x2 的最大池化层\n",
    "model.add(layers.MaxPooling2D((2, 2)))\n",
    "# 添加第二个卷积层，64 个 3x3 卷积核，使用 ReLU 激活函数\n",
    "model.add(layers.Conv2D(64, (3, 3), activation='relu'))\n",
    "# 再添加一个 2x2 的最大池化层\n",
    "model.add(layers.MaxPooling2D((2, 2)))\n",
    "# 添加第三个卷积层，64 个 3x3 卷积核，使用 ReLU 激活函数\n",
    "model.add(layers.Conv2D(64, (3, 3), activation='relu'))\n",
    "\n",
    "# 展平特征图\n",
    "model.add(layers.Flatten())\n",
    "# 添加一个全连接层，64 个神经元，使用 ReLU 激活函数\n",
    "model.add(layers.Dense(64, activation='relu'))\n",
    "# 最后添加一个输出层，10 个神经元，对应 10 个类别，使用 softmax 激活函数\n",
    "model.add(layers.Dense(10, activation='softmax'))\n",
    "\n",
    "# 打印模型结构\n",
    "model.summary()\n",
    "\n",
    "# 编译模型\n",
    "model.compile(optimizer='adam',\n",
    "              loss='sparse_categorical_crossentropy',\n",
    "              metrics=['accuracy'])\n",
    "\n",
    "# 训练模型\n",
    "history = model.fit(train_images.reshape(-1, 28, 28, 1), train_labels, epochs=5, \n",
    "                  validation_data=(test_images.reshape(-1, 28, 28, 1), test_labels))\n",
    "\n",
    "# 评估模型\n",
    "test_loss, test_acc = model.evaluate(test_images.reshape(-1, 28, 28, 1), test_labels)\n",
    "print(f'Test accuracy: {test_acc}')\n",
    "\n",
    "# 预测一些测试图像\n",
    "predictions = model.predict(test_images[:5].reshape(-1, 28, 28, 1))\n",
    "print(\"Predictions:\", predictions.argmax(axis=1))\n",
    "print(\"True labels:\", test_labels[:5])"
   ]
  },
  {
   "cell_type": "code",
   "execution_count": null,
   "id": "14b81c08-3376-4200-a43c-696caeacea57",
   "metadata": {},
   "outputs": [],
   "source": []
  }
 ],
 "metadata": {
  "kernelspec": {
   "display_name": "Python [conda env:base] *",
   "language": "python",
   "name": "conda-base-py"
  },
  "language_info": {
   "codemirror_mode": {
    "name": "ipython",
    "version": 3
   },
   "file_extension": ".py",
   "mimetype": "text/x-python",
   "name": "python",
   "nbconvert_exporter": "python",
   "pygments_lexer": "ipython3",
   "version": "3.12.7"
  }
 },
 "nbformat": 4,
 "nbformat_minor": 5
}
